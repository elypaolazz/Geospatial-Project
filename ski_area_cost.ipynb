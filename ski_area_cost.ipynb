{
 "cells": [
  {
   "cell_type": "code",
   "execution_count": null,
   "outputs": [],
   "source": [
    "ski_slopes_BZ_clipped_prices = ski_slopes_BZ_clipped\n",
    "ski_slopes_BZ_clipped_prices['prices'] = \"\"\n",
    "\n",
    "ski_slopes_BZ_clipped_prices.loc[ski_slopes_BZ_clipped_prices['NAME_IT'] == 'Pedraces', ['prices']] = 62.00\n",
    "ski_slopes_BZ_clipped_prices.loc[ski_slopes_BZ_clipped_prices['NAME_IT'] == 'Passo Oclini', ['prices']] =  20.00\n",
    "ski_slopes_BZ_clipped_prices.loc[ski_slopes_BZ_clipped_prices['NAME_IT'] == 'Braies Vecchia', ['prices']] = 61.00 # 3 zinnen\n",
    "ski_slopes_BZ_clipped_prices.loc[ski_slopes_BZ_clipped_prices['NAME_IT'] == 'Seceda', ['prices']] = 62.00\n",
    "ski_slopes_BZ_clipped_prices.loc[ski_slopes_BZ_clipped_prices['NAME_IT'] == 'Antermoia', ['prices']] = 50.00 # o 62\n",
    "ski_slopes_BZ_clipped_prices.loc[ski_slopes_BZ_clipped_prices['NAME_IT'] == 'Obereggen', ['prices']] = 55.00\n",
    "ski_slopes_BZ_clipped_prices.loc[ski_slopes_BZ_clipped_prices['NAME_IT'] == 'Alpe di Siusi', ['prices']] = 62.00\n",
    "ski_slopes_BZ_clipped_prices.loc[ski_slopes_BZ_clipped_prices['NAME_IT'] == 'S. Vigilio di Marebbe', ['prices']] = 62.00\n",
    "ski_slopes_BZ_clipped_prices.loc[ski_slopes_BZ_clipped_prices['NAME_IT'] == 'Baranci', ['prices']] = 61.00\n",
    "ski_slopes_BZ_clipped_prices.loc[ski_slopes_BZ_clipped_prices['NAME_IT'] == 'Gardenaccia', ['prices']] = 62.00\n",
    "ski_slopes_BZ_clipped_prices.loc[ski_slopes_BZ_clipped_prices['NAME_IT'] == 'Filler', ['prices']] = 50.00\n",
    "ski_slopes_BZ_clipped_prices.loc[ski_slopes_BZ_clipped_prices['NAME_IT'] == 'Pietralba', ['prices']] = 50.00\n",
    "ski_slopes_BZ_clipped_prices.loc[ski_slopes_BZ_clipped_prices['NAME_IT'] == 'Panorama', ['prices']] = 55.00\n",
    "ski_slopes_BZ_clipped_prices.loc[ski_slopes_BZ_clipped_prices['NAME_IT'] == 'Carezza', ['prices']] = 52.00\n",
    "ski_slopes_BZ_clipped_prices.loc[ski_slopes_BZ_clipped_prices['NAME_IT'] == 'Castelrotto', ['prices']] = 50.00\n",
    "ski_slopes_BZ_clipped_prices.loc[ski_slopes_BZ_clipped_prices['NAME_IT'] == 'Corvara-Badia', ['prices']] = 62.00\n",
    "ski_slopes_BZ_clipped_prices.loc[ski_slopes_BZ_clipped_prices['NAME_IT'] == 'Sesto-Monte Elmo-Prati di Croda Rossa', ['prices']] = 61.00\n",
    "ski_slopes_BZ_clipped_prices.loc[ski_slopes_BZ_clipped_prices['NAME_IT'] == 'Plan de corones', ['prices']] = 62.00\n",
    "ski_slopes_BZ_clipped_prices.loc[ski_slopes_BZ_clipped_prices['NAME_IT'] == 'Nova Ponente', ['prices']] = 55.00\n",
    "ski_slopes_BZ_clipped_prices.loc[ski_slopes_BZ_clipped_prices['NAME_IT'] == 'Monte Pana-Ciampinoi-Passo Sella', ['prices']] = 62.00\n",
    "ski_slopes_BZ_clipped_prices.loc[ski_slopes_BZ_clipped_prices['NAME_IT'] == 'Rienza', ['prices']] = 37.50\n",
    "ski_slopes_BZ_clipped_prices.loc[ski_slopes_BZ_clipped_prices['NAME_IT'] == 'Danterceppies-Passo Gardena', ['prices']] = 62.00\n",
    "ski_slopes_BZ_clipped_prices.loc[ski_slopes_BZ_clipped_prices['NAME_IT'] == 'Passo Monte Croce Comelico', ['prices']] = 61.00\n",
    "ski_slopes_BZ_clipped_prices.loc[ski_slopes_BZ_clipped_prices['NAME_IT'] == 'Keil', ['prices']] = 62.00\n",
    "\n",
    "\n",
    "ski_slopes_BZ_clipped_prices"
   ],
   "metadata": {
    "collapsed": false,
    "pycharm": {
     "name": "#%%\n"
    }
   }
  },
  {
   "cell_type": "code",
   "execution_count": null,
   "outputs": [],
   "source": [
    "ski_lifts_BZ_clipped_prices = ski_lifts_BZ_clipped\n",
    "ski_lifts_BZ_clipped_prices['prices'] = \"\"\n",
    "\n",
    "ski_lifts_BZ_clipped_prices.loc[ski_lifts_BZ_clipped_prices['NAME_IT'] == 'Pedraces', ['prices']] = 62.00\n",
    "ski_lifts_BZ_clipped_prices.loc[ski_lifts_BZ_clipped_prices['NAME_IT'] == 'Passo Oclini', ['prices']] =  20.00\n",
    "ski_lifts_BZ_clipped_prices.loc[ski_lifts_BZ_clipped_prices['NAME_IT'] == 'Braies Vecchia', ['prices']] = 61.00 # 3 zinnen\n",
    "ski_lifts_BZ_clipped_prices.loc[ski_lifts_BZ_clipped_prices['NAME_IT'] == 'Seceda', ['prices']] = 62.00\n",
    "ski_lifts_BZ_clipped_prices.loc[ski_lifts_BZ_clipped_prices['NAME_IT'] == 'Antermoia', ['prices']] = 50.00 # o 62\n",
    "ski_lifts_BZ_clipped_prices.loc[ski_lifts_BZ_clipped_prices['NAME_IT'] == 'Obereggen', ['prices']] = 55.00\n",
    "ski_lifts_BZ_clipped_prices.loc[ski_lifts_BZ_clipped_prices['NAME_IT'] == 'Alpe di Siusi', ['prices']] = 62.00\n",
    "ski_lifts_BZ_clipped_prices.loc[ski_lifts_BZ_clipped_prices['NAME_IT'] == 'S. Vigilio di Marebbe', ['prices']] = 62.00\n",
    "ski_lifts_BZ_clipped_prices.loc[ski_lifts_BZ_clipped_prices['NAME_IT'] == 'Baranci', ['prices']] = 61.00\n",
    "ski_lifts_BZ_clipped_prices.loc[ski_lifts_BZ_clipped_prices['NAME_IT'] == 'Gardenaccia', ['prices']] = 62.00\n",
    "ski_lifts_BZ_clipped_prices.loc[ski_lifts_BZ_clipped_prices['NAME_IT'] == 'Filler', ['prices']] = 50.00\n",
    "ski_lifts_BZ_clipped_prices.loc[ski_lifts_BZ_clipped_prices['NAME_IT'] == 'Pietralba', ['prices']] = 50.00\n",
    "ski_lifts_BZ_clipped_prices.loc[ski_lifts_BZ_clipped_prices['NAME_IT'] == 'Panorama', ['prices']] = 55.00\n",
    "ski_lifts_BZ_clipped_prices.loc[ski_lifts_BZ_clipped_prices['NAME_IT'] == 'Carezza', ['prices']] = 52.00\n",
    "ski_lifts_BZ_clipped_prices.loc[ski_lifts_BZ_clipped_prices['NAME_IT'] == 'Castelrotto', ['prices']] = 50.00\n",
    "ski_lifts_BZ_clipped_prices.loc[ski_lifts_BZ_clipped_prices['NAME_IT'] == 'Corvara-Badia', ['prices']] = 62.00\n",
    "ski_lifts_BZ_clipped_prices.loc[ski_lifts_BZ_clipped_prices['NAME_IT'] == 'Sesto-Monte Elmo-Prati di Croda Rossa', ['prices']] = 61.00\n",
    "ski_lifts_BZ_clipped_prices.loc[ski_lifts_BZ_clipped_prices['NAME_IT'] == 'Plan de corones', ['prices']] = 62.00\n",
    "ski_lifts_BZ_clipped_prices.loc[ski_lifts_BZ_clipped_prices['NAME_IT'] == 'Nova Ponente', ['prices']] = 55.00\n",
    "ski_lifts_BZ_clipped_prices.loc[ski_lifts_BZ_clipped_prices['NAME_IT'] == 'Monte Pana-Ciampinoi-Passo Sella', ['prices']] = 62.00\n",
    "ski_lifts_BZ_clipped_prices.loc[ski_lifts_BZ_clipped_prices['NAME_IT'] == 'Rienza', ['prices']] = 37.50\n",
    "ski_lifts_BZ_clipped_prices.loc[ski_lifts_BZ_clipped_prices['NAME_IT'] == 'Danterceppies-Passo Gardena', ['prices']] = 62.00\n",
    "ski_lifts_BZ_clipped_prices.loc[ski_lifts_BZ_clipped_prices['NAME_IT'] == 'Passo Monte Croce Comelico', ['prices']] = 61.00\n",
    "ski_lifts_BZ_clipped_prices.loc[ski_lifts_BZ_clipped_prices['NAME_IT'] == 'Keil', ['prices']] = 62.00\n"
   ],
   "metadata": {
    "collapsed": false,
    "pycharm": {
     "name": "#%%\n"
    }
   }
  },
  {
   "cell_type": "markdown",
   "source": [
    "Save GeoDataFrame:"
   ],
   "metadata": {
    "collapsed": false
   }
  },
  {
   "cell_type": "code",
   "execution_count": null,
   "outputs": [],
   "source": [
    "ski_lifts_BZ_clipped_prices"
   ],
   "metadata": {
    "collapsed": false,
    "pycharm": {
     "name": "#%%\n"
    }
   }
  },
  {
   "cell_type": "code",
   "execution_count": null,
   "outputs": [],
   "source": [
    "ski_lifts_BZ_clipped_prices_point.SKIZONE.unique()"
   ],
   "metadata": {
    "collapsed": false,
    "pycharm": {
     "name": "#%%\n"
    }
   }
  },
  {
   "cell_type": "code",
   "execution_count": null,
   "outputs": [],
   "source": [
    "ski_lifts_BZ_clipped_prices_point = ski_lifts_BZ_clipped_prices.drop(columns=['geometry'])\n",
    "ski_lifts_BZ_clipped_prices_point = ski_lifts_BZ_clipped_prices_point.set_geometry('starting_point').rename_geometry('geometry')"
   ],
   "metadata": {
    "collapsed": false,
    "pycharm": {
     "name": "#%%\n"
    }
   }
  },
  {
   "cell_type": "code",
   "execution_count": null,
   "outputs": [],
   "source": [
    "i = ski_lifts_BZ_clipped_prices_point[ski_lifts_BZ_clipped_prices_point.NAME_IT == \"Antermoia\"]\n",
    "i"
   ],
   "metadata": {
    "collapsed": false,
    "pycharm": {
     "name": "#%%\n"
    }
   }
  },
  {
   "cell_type": "code",
   "execution_count": null,
   "outputs": [],
   "source": [
    "\n",
    "base = geo_dolomiti_BZ_mun.plot(\n",
    "    figsize=(15,15),\n",
    "    column='COMUNE',\n",
    "    cmap='Pastel1',\n",
    "    edgecolor=\"k\",\n",
    "    lw=0.1\n",
    ")\n",
    "\n",
    "dolomities_BZ_clipped.plot(\n",
    "    ax=base,\n",
    "    color=\"grey\",\n",
    "    alpha=0.6\n",
    ")\n",
    "\n",
    "ski_lifts_BZ_clipped_prices_point.plot(\n",
    "    ax=base,\n",
    "    column='prices',\n",
    "    cmap='Reds',\n",
    "    legend=True,\n",
    "\n",
    ")\n",
    "\n",
    "# ski_lifts_BZ_clipped.plot(\n",
    "#     ax=base,\n",
    "#     column='prices',\n",
    "#     color=\"grey\"\n",
    "# )\n",
    "\n"
   ],
   "metadata": {
    "collapsed": false,
    "pycharm": {
     "name": "#%%\n"
    }
   }
  },
  {
   "cell_type": "code",
   "execution_count": null,
   "outputs": [],
   "source": [
    "ski_lifts_BZ_clipped_prices_point.geometry.y"
   ],
   "metadata": {
    "collapsed": false,
    "pycharm": {
     "name": "#%%\n"
    }
   }
  },
  {
   "cell_type": "code",
   "execution_count": null,
   "outputs": [],
   "source": [
    "ski_lifts_BZ_clipped_prices_point[\"latitude\"] = ski_lifts_BZ_clipped_prices_point.geometry.y\n",
    "ski_lifts_BZ_clipped_prices_point[\"longitude\"] = ski_lifts_BZ_clipped_prices_point.geometry.x"
   ],
   "metadata": {
    "collapsed": false,
    "pycharm": {
     "name": "#%%\n"
    }
   }
  },
  {
   "cell_type": "code",
   "execution_count": null,
   "outputs": [],
   "source": [
    "ski_lifts_BZ_clipped_prices_point"
   ],
   "metadata": {
    "collapsed": false,
    "pycharm": {
     "name": "#%%\n"
    }
   }
  },
  {
   "cell_type": "code",
   "execution_count": null,
   "outputs": [],
   "source": [
    "def getMarker(lat,lon, message, tip, iconstyle):\n",
    "    marker = folium.Marker(location=[lat,lon],\n",
    "                           popup=message,\n",
    "                           tooltip=tip,\n",
    "                           icon=iconstyle)\n",
    "    return marker"
   ],
   "metadata": {
    "collapsed": false,
    "pycharm": {
     "name": "#%%\n"
    }
   }
  },
  {
   "cell_type": "code",
   "execution_count": null,
   "outputs": [],
   "source": [
    "# Creating Basemap\n",
    "map = folium.Map(location=[ski_lifts_BZ_clipped_prices_point.geometry.to_crs(epsg=4326).y.mean(), ski_lifts_BZ_clipped_prices_point.geometry.to_crs(epsg=4326).x.mean()], zoom_start=10, control_scale=True)\n",
    "\n",
    "for index, row in ski_lifts_BZ_clipped_prices_point.iterrows():\n",
    "    icon=folium.features.CustomIcon('https://emojipedia-us.s3.dualstack.us-west-1.amazonaws.com/thumbs/160/google/313/mountain-cableway_1f6a0.png',icon_size=(24,24))\n",
    "    marker = getMarker(row['latitude'], row['longitude'], row['NAME_IT'], row['prices'], icon)\n",
    "    marker.add_to(map)"
   ],
   "metadata": {
    "collapsed": false,
    "pycharm": {
     "name": "#%%\n"
    }
   }
  },
  {
   "cell_type": "code",
   "execution_count": null,
   "outputs": [],
   "source": [
    "map"
   ],
   "metadata": {
    "collapsed": false,
    "pycharm": {
     "name": "#%%\n"
    }
   }
  },
  {
   "cell_type": "code",
   "execution_count": null,
   "outputs": [],
   "source": [
    "os.mkdir(\"ski_lifts_BZ_clipped_prices_point\")\n",
    "ski_lifts_BZ_clipped_prices_point.to_file('ski_lifts_BZ_clipped_prices_point\\ski_lifts_BZ_clipped_prices_point.shp')"
   ],
   "metadata": {
    "collapsed": false,
    "pycharm": {
     "name": "#%%\n"
    }
   }
  },
  {
   "cell_type": "markdown",
   "source": [
    "---\n"
   ],
   "metadata": {
    "collapsed": false
   }
  },
  {
   "cell_type": "code",
   "execution_count": null,
   "outputs": [],
   "source": [
    "ski_slopes_BZ_clipped_cluster = ski_slopes_BZ_clipped_prices.dissolve(by=\"SKIKEY\")"
   ],
   "metadata": {
    "collapsed": false,
    "pycharm": {
     "name": "#%%\n"
    }
   }
  },
  {
   "cell_type": "code",
   "execution_count": null,
   "outputs": [],
   "source": [
    "ski_slopes_BZ_clipped_cluster.head()"
   ],
   "metadata": {
    "collapsed": false,
    "pycharm": {
     "name": "#%%\n"
    }
   }
  },
  {
   "cell_type": "code",
   "execution_count": null,
   "outputs": [],
   "source": [
    "base = geo_dolomiti_BZ_mun.plot(\n",
    "    figsize=(15,15),\n",
    "    color=\"black\",\n",
    "    edgecolor=\"k\",\n",
    "    alpha=0.5,\n",
    "    lw=0.1\n",
    ")\n",
    "\n",
    "dolomities_BZ_clipped.plot(\n",
    "    ax=base,\n",
    "    color=\"black\",\n",
    "    alpha=0.4\n",
    ")\n",
    "\n",
    "ski_slopes_BZ_clipped_cluster.plot(\n",
    "    ax=base,\n",
    "    column='prices',\n",
    "    legend=True,\n",
    "    cmap='Reds',\n",
    "\n",
    ")\n"
   ],
   "metadata": {
    "collapsed": false,
    "pycharm": {
     "name": "#%%\n"
    }
   }
  },
  {
   "cell_type": "code",
   "execution_count": null,
   "outputs": [],
   "source": [
    "ski_slopes_BZ_clipped_cluster[\"centroids\"] = ski_slopes_BZ_clipped_cluster.to_crs(epsg=32632).centroid\n",
    "ski_slopes_BZ_clipped_cluster.centroids.plot()"
   ],
   "metadata": {
    "collapsed": false,
    "pycharm": {
     "name": "#%%\n"
    }
   }
  },
  {
   "cell_type": "code",
   "execution_count": null,
   "outputs": [],
   "source": [
    "ski_slopes_BZ_clipped_cluster = ski_slopes_BZ_clipped_cluster.drop(columns=['geometry'])\n",
    "ski_slopes_BZ_clipped_cluster = ski_slopes_BZ_clipped_cluster.set_geometry('centroids').rename_geometry('geometry')"
   ],
   "metadata": {
    "collapsed": false,
    "pycharm": {
     "name": "#%%\n"
    }
   }
  },
  {
   "cell_type": "code",
   "execution_count": null,
   "outputs": [],
   "source": [
    "ski_slopes_BZ_clipped_cluster = ski_slopes_BZ_clipped_cluster.to_crs(epsg=4326)\n",
    "os.mkdir(\"ski_slopes_BZ_clipped_areas\")\n",
    "ski_slopes_BZ_clipped_cluster.to_file('ski_slopes_BZ_clipped_areas\\ski_slopes_BZ_clipped_areas.shp')\n"
   ],
   "metadata": {
    "collapsed": false,
    "pycharm": {
     "name": "#%%\n"
    }
   }
  }
 ],
 "metadata": {
  "kernelspec": {
   "display_name": "Python 3",
   "language": "python",
   "name": "python3"
  },
  "language_info": {
   "codemirror_mode": {
    "name": "ipython",
    "version": 2
   },
   "file_extension": ".py",
   "mimetype": "text/x-python",
   "name": "python",
   "nbconvert_exporter": "python",
   "pygments_lexer": "ipython2",
   "version": "2.7.6"
  }
 },
 "nbformat": 4,
 "nbformat_minor": 0
}