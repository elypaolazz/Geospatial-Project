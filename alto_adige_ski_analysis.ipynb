{
 "cells": [
  {
   "cell_type": "markdown",
   "source": [
    "## Dolomiti's ski runs and ski lifts analysis\n",
    "\n",
    "Dolomiti mountains are a popular destination for skiers. On the province of Bolzano's [Geoportal](http://geocatalogo.retecivica.bz.it/geokatalog/#!home) you can find geodata on both ski runs and ski lifts. On the other hand, on [OpenStreetMap](https://www.openstreetmap.org/#map=19/46.07224/11.11885) we can easily find the coordinates of tourist accommodation in the province's Dolomiti area.\n",
    "\n",
    "![](https://www.powderhounds.com/site/DefaultSite/filesystem/images/Europe/Italy/Dolomites/dolomititrailmap.jpg)"
   ],
   "metadata": {
    "collapsed": false
   }
  },
  {
   "cell_type": "markdown",
   "source": [
    "### Set up"
   ],
   "metadata": {
    "collapsed": false
   }
  },
  {
   "cell_type": "code",
   "execution_count": null,
   "outputs": [],
   "source": [
    "import geopandas as gpd\n",
    "import contextily as ctx\n",
    "import os\n",
    "import pandas as pd\n",
    "import matplotlib.pyplot as plt\n",
    "import pyrosm\n",
    "import folium\n",
    "from functions import *"
   ],
   "metadata": {
    "collapsed": false,
    "pycharm": {
     "name": "#%%\n"
    }
   }
  },
  {
   "cell_type": "markdown",
   "source": [
    "### Import Dolomiti's and province of Bolzano GeoDataFrames"
   ],
   "metadata": {
    "collapsed": false
   }
  },
  {
   "cell_type": "code",
   "execution_count": null,
   "outputs": [],
   "source": [
    "province_BZ = load_province('Bolzano', 'data\\Limiti01012021_g\\ProvCM01012021_g')\n",
    "geodf_dolomities = load_geodf_dolomities('data\\I nove Sistemi delle Dolomiti UNESCO.kml')\n",
    "dolomities_BZ_clipped = lead_province_clipped_dolomiti('Bolzano', 'data\\Limiti01012021_g')\n",
    "geo_dolomiti_BZ_mun = load_province_dolomiti_mun(21, 'data\\Limiti01012021_g')"
   ],
   "metadata": {
    "collapsed": false,
    "pycharm": {
     "name": "#%%\n"
    }
   }
  },
  {
   "cell_type": "markdown",
   "source": [
    "Plot Dolomiti's municipalities area:"
   ],
   "metadata": {
    "collapsed": false
   }
  },
  {
   "cell_type": "code",
   "execution_count": null,
   "outputs": [],
   "source": [
    "geo_dolomiti_BZ_mun.crs"
   ],
   "metadata": {
    "collapsed": false,
    "pycharm": {
     "name": "#%%\n"
    }
   }
  },
  {
   "cell_type": "code",
   "execution_count": null,
   "outputs": [],
   "source": [
    "base = province_BZ.to_crs(epsg=4326).plot(\n",
    "    figsize=(15,15),\n",
    "    cmap=\"Pastel1\",\n",
    "    edgecolor=\"k\",\n",
    "    lw=0.2,\n",
    "    alpha=0.6\n",
    "    )\n",
    "ctx.add_basemap(base, zoom=12, crs=province_BZ.crs.to_string(), source=ctx.providers.Stamen.TerrainBackground, alpha=0.7)\n",
    "\n",
    "geo_dolomiti_BZ_mun.plot(\n",
    "    ax=base,\n",
    "    color=\"#F18701\",\n",
    "    alpha=0.4,\n",
    "    edgecolor=\"k\",\n",
    "    lw=0.6\n",
    ")\n",
    "\n",
    "dolomities_BZ_clipped.plot(\n",
    "    column='Name',\n",
    "    categorical=True,\n",
    "    legend=True,\n",
    "    ax=base,\n",
    "    edgecolor=\"k\",\n",
    "    alpha=0.80,\n",
    "    lw=0.1\n",
    "    )\n"
   ],
   "metadata": {
    "collapsed": false,
    "pycharm": {
     "name": "#%%\n"
    }
   }
  },
  {
   "cell_type": "markdown",
   "source": [
    "### Get the data about ski runs in province of Bolzano\n",
    "\n",
    "We downloaded the the ski runs' data from province's Geocatalogo."
   ],
   "metadata": {
    "collapsed": false
   }
  },
  {
   "cell_type": "code",
   "execution_count": null,
   "outputs": [],
   "source": [
    "\n",
    "# if not os.path.exists('data\\Ski_slopes_data'):\n",
    "#     # download the data\n",
    "#     import requests, zipfile, io\n",
    "#     zip_file_url = 'https://etl.services.siag.it/fmedatadownload/results/FME_13060355_1641297824574_66900.zip'\n",
    "#     # request the file\n",
    "#     r = requests.get(zip_file_url, verify=False)\n",
    "#     z = zipfile.ZipFile(io.BytesIO(r.content))\n",
    "#     # unzip the file\n",
    "#     z.extractall()\n",
    "#     os.rename(\"DownloadService\", \"Ski_slopes_data\")\n",
    "\n"
   ],
   "metadata": {
    "collapsed": false,
    "pycharm": {
     "name": "#%%\n"
    }
   }
  },
  {
   "cell_type": "code",
   "execution_count": null,
   "outputs": [],
   "source": [
    "ski_slopes_path = \"data\\Ski_slopes_data\"\n",
    "ski_slopes_BZ = gpd.read_file(ski_slopes_path)\n",
    "ski_slopes_BZ = ski_slopes_BZ.to_crs(epsg=4326)\n",
    "ski_slopes_BZ.head(5)"
   ],
   "metadata": {
    "collapsed": false,
    "pycharm": {
     "name": "#%%\n"
    }
   }
  },
  {
   "cell_type": "markdown",
   "source": [
    "Plot the data:"
   ],
   "metadata": {
    "collapsed": false
   }
  },
  {
   "cell_type": "code",
   "execution_count": null,
   "outputs": [],
   "source": [
    "base = province_BZ.to_crs(epsg=4326).plot(\n",
    "    figsize=(15,15),\n",
    "    cmap=\"Pastel1\",\n",
    "    edgecolor=\"k\",\n",
    "    lw=0.2,\n",
    "    alpha=0.7\n",
    "    )\n",
    "ctx.add_basemap(base, zoom=12, crs=province_BZ.crs.to_string(), source=ctx.providers.Stamen.TerrainBackground, alpha=0.7)\n",
    "\n",
    "ski_slopes_BZ.plot(\n",
    "    ax=base,\n",
    "    color=\"#E0479E\",\n",
    "    edgecolor=\"k\",\n",
    "    alpha=1,\n",
    "    lw=0.1,\n",
    "    )\n",
    "\n",
    "dolomities_BZ_clipped.plot(\n",
    "    column='Name',\n",
    "    categorical=True,\n",
    "    legend=True,\n",
    "    ax=base,\n",
    "    edgecolor=\"k\",\n",
    "    alpha=0.5,\n",
    "    lw=0.1,\n",
    "    )\n",
    "\n"
   ],
   "metadata": {
    "collapsed": false,
    "pycharm": {
     "name": "#%%\n"
    }
   }
  },
  {
   "cell_type": "markdown",
   "source": [
    "#### How many kilometres of ski slopes does the province have?"
   ],
   "metadata": {
    "collapsed": false
   }
  },
  {
   "cell_type": "code",
   "execution_count": null,
   "outputs": [],
   "source": [
    "ski_slopes_BZ_total_area = sum(ski_slopes_BZ.AREA)\n",
    "print(\"Province of Bolzano has \", round((ski_slopes_BZ_total_area/10**6), 2), \" km\\u00b2 of ski slopes.\", sep=\"\")"
   ],
   "metadata": {
    "collapsed": false,
    "pycharm": {
     "name": "#%%\n"
    }
   }
  },
  {
   "cell_type": "markdown",
   "source": [
    "### Get the data about ski lifts and cableways in province of Bolzano\n",
    "\n",
    "We downloaded the the ski lifts' data from province's Geocatalogo."
   ],
   "metadata": {
    "collapsed": false
   }
  },
  {
   "cell_type": "code",
   "execution_count": null,
   "outputs": [],
   "source": [
    "if not os.path.exists('data\\Ski_lifts_data'):\n",
    "    # download the data\n",
    "    import requests, zipfile, io\n",
    "    zip_file_url = 'https://etl.services.siag.it/fmedatadownload/results/FME_14060355_1641298813440_81216.zip'\n",
    "    # request the file\n",
    "    r = requests.get(zip_file_url, verify=False)\n",
    "    z = zipfile.ZipFile(io.BytesIO(r.content))\n",
    "    # unzip the file\n",
    "    z.extractall()\n",
    "    os.rename(\"DownloadService\", \"Ski_lifts_data\")"
   ],
   "metadata": {
    "collapsed": false,
    "pycharm": {
     "name": "#%%\n"
    }
   }
  },
  {
   "cell_type": "code",
   "execution_count": null,
   "outputs": [],
   "source": [
    "ski_lifts_path = \"data\\Ski_lifts_data\"\n",
    "ski_lifts_BZ = gpd.read_file(ski_lifts_path)\n",
    "ski_lifts_BZ = ski_lifts_BZ.to_crs(epsg=4326)\n",
    "ski_lifts_BZ.head(5)"
   ],
   "metadata": {
    "collapsed": false,
    "pycharm": {
     "name": "#%%\n"
    }
   }
  },
  {
   "cell_type": "markdown",
   "source": [
    "Plot province's ski lift together with ski slopes:"
   ],
   "metadata": {
    "collapsed": false
   }
  },
  {
   "cell_type": "code",
   "execution_count": null,
   "outputs": [],
   "source": [
    "base = province_BZ.to_crs(epsg=4326).plot(\n",
    "    figsize=(15,15),\n",
    "    cmap=\"Pastel1\",\n",
    "    edgecolor=\"k\",\n",
    "    lw=0.2,\n",
    "    alpha=0.7\n",
    "    )\n",
    "ctx.add_basemap(base, zoom=12, crs=province_BZ.crs.to_string(), source=ctx.providers.Stamen.TerrainBackground, alpha=0.7)\n",
    "\n",
    "ski_lifts_BZ.plot(\n",
    "    # column='Name',\n",
    "    # categorical=True,\n",
    "    # legend=True,\n",
    "    ax=base,\n",
    "    color=\"#00CC33\",\n",
    "    edgecolor=\"#00CC33\",\n",
    "    alpha=1,\n",
    "    )\n",
    "\n",
    "ski_slopes_BZ.plot(\n",
    "    # column='Name',\n",
    "    # categorical=True,\n",
    "    # legend=True,\n",
    "    ax=base,\n",
    "    color=\"#E0479E\",\n",
    "    edgecolor=\"#E0479E\",\n",
    "    alpha=1,\n",
    "    lw=0.6,\n",
    "    )\n",
    "\n",
    "dolomities_BZ_clipped.plot(\n",
    "    column='Name',\n",
    "    categorical=True,\n",
    "    legend=True,\n",
    "    ax=base,\n",
    "    edgecolor=\"k\",\n",
    "    alpha=0.5,\n",
    "    lw=0.1,\n",
    "    )"
   ],
   "metadata": {
    "collapsed": false,
    "pycharm": {
     "name": "#%%\n"
    }
   }
  },
  {
   "cell_type": "markdown",
   "source": [
    "### Explore Dolomiti systems ski runs and lifts"
   ],
   "metadata": {
    "collapsed": false
   }
  },
  {
   "cell_type": "markdown",
   "source": [
    "Clip ski runs and lifts with Dolomiti municipalities boundaries in order to get the Dolomiti area ski lifts and ski runs:"
   ],
   "metadata": {
    "collapsed": false
   }
  },
  {
   "cell_type": "code",
   "execution_count": null,
   "outputs": [],
   "source": [
    "ski_slopes_BZ_clipped = ski_slopes_BZ.clip(geo_dolomiti_BZ_mun)\n",
    "ski_lifts_BZ_clipped = ski_lifts_BZ.clip(geo_dolomiti_BZ_mun)"
   ],
   "metadata": {
    "collapsed": false,
    "pycharm": {
     "name": "#%%\n"
    }
   }
  },
  {
   "cell_type": "markdown",
   "source": [
    "Recalculate Dolomiti ski runs area:"
   ],
   "metadata": {
    "collapsed": false
   }
  },
  {
   "cell_type": "code",
   "execution_count": null,
   "outputs": [],
   "source": [
    "ski_slopes_dolomiti_mun_areas= ski_slopes_BZ_clipped.to_crs(epsg=32632)\n",
    "ski_slopes_BZ_clipped[\"clipped_area\"] = ski_slopes_dolomiti_mun_areas['geometry'].area"
   ],
   "metadata": {
    "collapsed": false,
    "pycharm": {
     "name": "#%%\n"
    }
   }
  },
  {
   "cell_type": "markdown",
   "source": [
    "#### What proportion of ski runs does the Bolzano's Dolomiti area have?"
   ],
   "metadata": {
    "collapsed": false
   }
  },
  {
   "cell_type": "code",
   "execution_count": null,
   "outputs": [],
   "source": [
    "ski_slopes_dolomiti_mun_total_area = sum(ski_slopes_BZ_clipped[\"clipped_area\"])\n",
    "percentage_ski_slopes = (ski_slopes_dolomiti_mun_total_area/ski_slopes_BZ_total_area)*100\n",
    "print(round(percentage_ski_slopes,2), \"% of ski runs area in province of Bolzano are within the Dolomiti's municipality.\", sep=\"\")"
   ],
   "metadata": {
    "collapsed": false,
    "pycharm": {
     "name": "#%%\n"
    }
   }
  },
  {
   "cell_type": "markdown",
   "source": [
    "The area has almost half of the ski runs of the entire province."
   ],
   "metadata": {
    "collapsed": false
   }
  },
  {
   "cell_type": "markdown",
   "source": [
    "Plot the clipped ski lifts and ski runs:"
   ],
   "metadata": {
    "collapsed": false
   }
  },
  {
   "cell_type": "code",
   "execution_count": null,
   "outputs": [],
   "source": [
    "# dissolve the Dolomiti municipalities borders\n",
    "area_dolomiti_BZ = dissolve_province_dolomiti_area(21)"
   ],
   "metadata": {
    "collapsed": false,
    "pycharm": {
     "name": "#%%\n"
    }
   }
  },
  {
   "cell_type": "code",
   "execution_count": null,
   "outputs": [],
   "source": [
    "base = province_BZ.plot(\n",
    "    column='COD_PROV',\n",
    "    figsize=(15,15),\n",
    "    cmap=\"Pastel1\",\n",
    "    edgecolor=\"k\",\n",
    "    lw=0.2,\n",
    "    alpha=0.4)\n",
    "\n",
    "ctx.add_basemap(base, crs=province_BZ.crs.to_string(), source=ctx.providers.Stamen.TerrainBackground, alpha=0.7)\n",
    "\n",
    "area_dolomiti_BZ.to_crs(epsg=4326).plot(\n",
    "    figsize=(15,15),\n",
    "    cmap=\"Pastel1\",\n",
    "    edgecolor=\"k\",\n",
    "    lw=0.2,\n",
    "    alpha=0.7,\n",
    "    ax=base\n",
    "    )\n",
    "\n",
    "dolomities_BZ_clipped.to_crs(epsg=4326).plot(\n",
    "    column='Name',\n",
    "    categorical=True,\n",
    "    legend=True,\n",
    "    ax=base,\n",
    "    edgecolor=\"k\",\n",
    "    alpha=0.7,\n",
    "    lw=0.8,\n",
    "    )\n",
    "\n",
    "ski_lifts_BZ_clipped.plot(\n",
    "    ax=base,\n",
    "    color=\"#00CC33\",\n",
    "    edgecolor=\"#00CC33\",\n",
    "    alpha=1,\n",
    "    )\n",
    "\n",
    "ski_slopes_BZ_clipped.plot(\n",
    "    ax=base,\n",
    "    color=\"#E0479E\",\n",
    "    edgecolor=\"#E0479E\",\n",
    "    alpha=1,\n",
    "    lw=0.6,\n",
    "    )\n"
   ],
   "metadata": {
    "collapsed": false,
    "pycharm": {
     "name": "#%%\n"
    }
   }
  },
  {
   "cell_type": "markdown",
   "source": [
    "As we can see from the plot, the ski runs and ski lifts reach as far as the Domolites' foothills."
   ],
   "metadata": {
    "collapsed": false
   }
  },
  {
   "cell_type": "markdown",
   "source": [
    "### How many hotels are there in the Bolzano's Dolomiti area?\n",
    "#### Get the PBF for the province of Bolzano from [Wikimedia](https://osmit-estratti.wmcloud.org/)"
   ],
   "metadata": {
    "collapsed": false
   }
  },
  {
   "cell_type": "code",
   "execution_count": null,
   "outputs": [],
   "source": [
    "alto_adige_download_pbf_url = \"https://osmit-estratti.wmcloud.org/dati/poly/province/pbf/021_Bolzano%20-%20Bozen_poly.osm.pbf\"\n",
    "# download the data\n",
    "import requests\n",
    "#request the file\n",
    "r = requests.get(alto_adige_download_pbf_url, allow_redirects=True)\n",
    "#save the file\n",
    "open('data/alto_adige.pbf', 'wb').write(r.content)"
   ],
   "metadata": {
    "collapsed": false,
    "pycharm": {
     "name": "#%%\n"
    }
   }
  },
  {
   "cell_type": "markdown",
   "source": [
    "Check available tags:"
   ],
   "metadata": {
    "collapsed": false
   }
  },
  {
   "cell_type": "code",
   "execution_count": null,
   "outputs": [],
   "source": [
    "osm = pyrosm.OSM(\"data/alto_adige.pbf\")\n",
    "osm.conf.tags.available"
   ],
   "metadata": {
    "collapsed": false,
    "pycharm": {
     "name": "#%%\n"
    }
   }
  },
  {
   "cell_type": "markdown",
   "source": [
    "Obtain buildings and walk street network from Alto Adige osm and keep only the object within Dolomiti's municipalities of the province:"
   ],
   "metadata": {
    "collapsed": false
   }
  },
  {
   "cell_type": "code",
   "execution_count": null,
   "outputs": [],
   "source": [
    "# buildings = osm.get_buildings()\n",
    "# buildings_clipped = buildings[buildings.within(area_dolomiti_BZ.geometry.values[0])]\n",
    "# walk = osm.get_network(\"walking\")\n",
    "# walk_clipped = walk[walk.within(area_dolomiti_BZ.geometry.values[0])]\n",
    "\n",
    "# drive = osm.get_network(network_type=\"driving\", nodes=True)\n",
    "# i = drive[drive.within(area_dolomiti_BZ.geometry.values[0])]"
   ],
   "metadata": {
    "collapsed": false,
    "pycharm": {
     "name": "#%%\n"
    }
   }
  },
  {
   "cell_type": "markdown",
   "source": [
    "Obtain also turists accomodation and keep only the object within Dolomiti's municipalities of the province:"
   ],
   "metadata": {
    "collapsed": false
   }
  },
  {
   "cell_type": "code",
   "execution_count": null,
   "outputs": [],
   "source": [
    "turism_tag = [\n",
    "    'alpine_hut',\n",
    "    'apartment',\n",
    "    'chalet',\n",
    "    'guest_house',\n",
    "    'hostel',\n",
    "    'hotel']\n",
    "\n",
    "custom_filter = {'tourism': turism_tag}\n",
    "tourist_accommodation = osm.get_pois(custom_filter=custom_filter)\n",
    "tourist_accommodation_clipped = tourist_accommodation[tourist_accommodation.within(area_dolomiti_BZ.geometry.values[0])]"
   ],
   "metadata": {
    "collapsed": false,
    "pycharm": {
     "name": "#%%\n"
    }
   }
  },
  {
   "cell_type": "markdown",
   "source": [
    "#### How many tourists' accomodation are there in the area?"
   ],
   "metadata": {
    "collapsed": false
   }
  },
  {
   "cell_type": "code",
   "execution_count": null,
   "outputs": [],
   "source": [
    "print(\"There are\", len(tourist_accommodation_clipped), \"tourist accomodation structures in the Dolomiti area.\") "
   ],
   "metadata": {
    "collapsed": false,
    "pycharm": {
     "name": "#%%\n"
    }
   }
  },
  {
   "cell_type": "markdown",
   "source": [
    "Plot the tourist accommodation:"
   ],
   "metadata": {
    "collapsed": false
   }
  },
  {
   "cell_type": "code",
   "execution_count": null,
   "outputs": [],
   "source": [
    "\n",
    "base = area_dolomiti_BZ.plot(\n",
    "    figsize=(30,30),\n",
    "    facecolor=\"none\",\n",
    "    edgecolor=\"k\",\n",
    "    alpha=0.6,\n",
    "    lw=2,)\n",
    "\n",
    "ctx.add_basemap(base, crs=area_dolomiti_BZ.crs.to_string(), source=ctx.providers.Stamen.TerrainBackground, alpha=0.5)\n",
    "\n",
    "dolomities_BZ_clipped.to_crs(epsg=4326).plot(\n",
    "    legend=True,\n",
    "    ax=base,\n",
    "    edgecolor=\"k\",\n",
    "    alpha=0.5,\n",
    "    lw=0.8,\n",
    "    )\n",
    "\n",
    "tourist_accommodation_clipped.plot(\n",
    "    column='tourism',\n",
    "    categorical=True,\n",
    "    legend=True,\n",
    "    ax=base,\n",
    "    marker='.',\n",
    "    markersize=100,\n",
    "    cmap=\"tab10\",\n",
    "    lw=0.1,\n",
    "    )"
   ],
   "metadata": {
    "collapsed": false,
    "pycharm": {
     "name": "#%%\n"
    }
   }
  },
  {
   "cell_type": "markdown",
   "source": [
    "### Which is the nearest hotel for each ski area?\n",
    "#### Caculate nearest hotel for each ski lift starting point"
   ],
   "metadata": {
    "collapsed": false
   }
  },
  {
   "cell_type": "markdown",
   "source": [
    "First we have to find ski lifts (linestring) starting point:\n"
   ],
   "metadata": {
    "collapsed": false
   }
  },
  {
   "cell_type": "code",
   "execution_count": null,
   "outputs": [],
   "source": [
    "from shapely.geometry import Point\n",
    "\n",
    "ski_lifts_BZ_clipped['starting_point'] = \"\"\n",
    "for idx, row in ski_lifts_BZ_clipped.iterrows():\n",
    "    ski_lifts_BZ_clipped.loc[idx,'starting_point'] = Point(row.geometry.coords[0])\n",
    "    \n",
    "ski_lifts_starting_point = ski_lifts_BZ_clipped\n",
    "ski_lifts_starting_point.geometry = ski_lifts_starting_point.starting_point"
   ],
   "metadata": {
    "collapsed": false,
    "pycharm": {
     "name": "#%%\n"
    }
   }
  },
  {
   "cell_type": "markdown",
   "source": [
    "#### Is each ski lift correspond to a ski area (one or more ski runs)?"
   ],
   "metadata": {
    "collapsed": false
   }
  },
  {
   "cell_type": "code",
   "execution_count": null,
   "outputs": [],
   "source": [
    "ski_lifts_BZ_clipped.sort_values(by=['NAME_IT'], ascending=True).NAME_IT.unique() == ski_slopes_BZ_clipped.sort_values(by=['NAME_IT'], ascending=True).NAME_IT.unique()"
   ],
   "metadata": {
    "collapsed": false,
    "pycharm": {
     "name": "#%%\n"
    }
   }
  },
  {
   "cell_type": "code",
   "execution_count": null,
   "outputs": [],
   "source": [
    "len(ski_slopes_BZ_clipped.NAME_IT.unique()) == len(ski_lifts_BZ_clipped.NAME_IT.unique())"
   ],
   "metadata": {
    "collapsed": false,
    "pycharm": {
     "name": "#%%\n"
    }
   }
  },
  {
   "cell_type": "markdown",
   "source": [
    "Plot ski lifts' starting points:"
   ],
   "metadata": {
    "collapsed": false
   }
  },
  {
   "cell_type": "code",
   "execution_count": null,
   "outputs": [],
   "source": [
    "base = area_dolomiti_BZ.plot(\n",
    "    figsize=(15,15),\n",
    "    cmap='Pastel1',\n",
    "    edgecolor=\"k\",\n",
    "    lw=0.1, \n",
    "    alpha=0.6\n",
    ")\n",
    "\n",
    "ctx.add_basemap(base, crs=area_dolomiti_BZ.crs.to_string(), source=ctx.providers.Stamen.TerrainBackground, alpha=0.5)\n",
    "\n",
    "\n",
    "dolomities_BZ_clipped.plot(\n",
    "    ax=base,\n",
    "    color=\"grey\",\n",
    "    alpha=0.6\n",
    ")\n",
    "\n",
    "ski_lifts_starting_point.plot(\n",
    "    ax=base, \n",
    "    color='#63264A',\n",
    "\n",
    ")"
   ],
   "metadata": {
    "collapsed": false,
    "pycharm": {
     "name": "#%%\n"
    }
   }
  },
  {
   "cell_type": "markdown",
   "source": [
    "Yes, all the ski runs have one or more lines of ski lifts. \n",
    "Given the high number of ski lifts starting point, let's plot a cluster visualization them with folium:"
   ],
   "metadata": {
    "collapsed": false
   }
  },
  {
   "cell_type": "code",
   "execution_count": null,
   "outputs": [],
   "source": [
    "# add starting point lon and lat\n",
    "ski_lifts_starting_point['longitude'] = ski_lifts_starting_point.geometry.x\n",
    "ski_lifts_starting_point['latitude'] = ski_lifts_starting_point.geometry.y"
   ],
   "metadata": {
    "collapsed": false,
    "pycharm": {
     "name": "#%%\n"
    }
   }
  },
  {
   "cell_type": "code",
   "execution_count": null,
   "outputs": [],
   "source": [
    "from folium.plugins import MarkerCluster\n",
    "map=folium.Map(location=[ski_lifts_starting_point.to_crs(epsg=4326).geometry.y.mean(), ski_lifts_starting_point.to_crs(epsg=4326).geometry.x.mean()], tiles='cartodbpositron', zoom_start=10)\n",
    "\n",
    "def getMarker(lat,lon, message,tip,inconstyle):\n",
    "      marker = folium.Marker(location=[lat,lon],\n",
    "                         popup=message,\n",
    "                         tooltip=tip,\n",
    "                         icon=inconstyle)\n",
    "      return marker\n",
    "\n",
    "marker_cluster = MarkerCluster().add_to(map)\n",
    "\n",
    "for _, r in area_dolomiti_BZ.iterrows():\n",
    "    # Without simplifying the representation of each borough,\n",
    "    # the map might not be displayed\n",
    "    sim_geo = gpd.GeoSeries(r['geometry']).simplify(tolerance=0.001)\n",
    "    geo_j = sim_geo.to_json()\n",
    "    geo_j = folium.GeoJson(data=geo_j,\n",
    "                           style_function=lambda x: {'fillColor': 'orange'})\n",
    "    geo_j.add_to(map)\n",
    "\n",
    "for index, row in ski_lifts_starting_point.iterrows():\n",
    "  icon=folium.features.CustomIcon('https://emojipedia-us.s3.dualstack.us-west-1.amazonaws.com/thumbs/160/google/313/mountain-cableway_1f6a0.png',icon_size=(24,24))\n",
    "  message = '<strong>ski lift ID:'+ str(row['OBJECTID']) + \"</strong><br/>\" + row['NAME_IT']\n",
    "  tip = message + '<br/>' + row['NAME_DE']\n",
    "  marker = getMarker(row['latitude'],row['longitude'],message, tip, icon) \n",
    "  #add to marker cluster \n",
    "  marker.add_to(marker_cluster)\n",
    "map"
   ],
   "metadata": {
    "collapsed": false,
    "pycharm": {
     "name": "#%%\n"
    }
   }
  },
  {
   "cell_type": "markdown",
   "source": [
    "Given their large number, we can do the same with tourist accomodation structures:\n",
    "We first have to calculate the geometry centroid since some records have a poligon geometry"
   ],
   "metadata": {
    "collapsed": false
   }
  },
  {
   "cell_type": "code",
   "execution_count": null,
   "outputs": [],
   "source": [
    "tourist_accommodation_clipped.tourism"
   ],
   "metadata": {
    "collapsed": false,
    "pycharm": {
     "name": "#%%\n"
    }
   }
  },
  {
   "cell_type": "code",
   "execution_count": null,
   "outputs": [],
   "source": [
    "import warnings\n",
    "warnings.simplefilter(\"ignore\")\n",
    "\n",
    "tourist_accommodation_clipped[\"centroid\"] = tourist_accommodation_clipped.to_crs(epsg=32632).centroid\n",
    "tourist_accommodation_clipped['longitude'] = tourist_accommodation_clipped.centroid.to_crs(epsg=4326).x\n",
    "tourist_accommodation_clipped['latitude'] = tourist_accommodation_clipped.centroid.to_crs(epsg=4326).y"
   ],
   "metadata": {
    "collapsed": false,
    "pycharm": {
     "name": "#%%\n"
    }
   }
  },
  {
   "cell_type": "code",
   "execution_count": null,
   "outputs": [],
   "source": [
    "map=folium.Map(location=[ski_lifts_starting_point.to_crs(epsg=4326).geometry.y.mean(), ski_lifts_starting_point.to_crs(epsg=4326).geometry.x.mean()], tiles='cartodbpositron', zoom_start=10)\n",
    "\n",
    "def getMarker(lat,lon, message,tip,inconstyle):\n",
    "      marker = folium.Marker(location=[lat,lon],\n",
    "                         popup=message,\n",
    "                         tooltip=tip,\n",
    "                         icon=inconstyle)\n",
    "      return marker\n",
    "\n",
    "marker_cluster = MarkerCluster().add_to(map)\n",
    "\n",
    "for _, r in area_dolomiti_BZ.iterrows():\n",
    "    # Without simplifying the representation of each borough,\n",
    "    # the map might not be displayed\n",
    "    sim_geo = gpd.GeoSeries(r['geometry']).simplify(tolerance=0.001)\n",
    "    geo_j = sim_geo.to_json()\n",
    "    geo_j = folium.GeoJson(data=geo_j,\n",
    "                           style_function=lambda x: {'fillColor': 'orange'})\n",
    "    geo_j.add_to(map)\n",
    "\n",
    "\n",
    "for index, row in tourist_accommodation_clipped.iterrows():\n",
    "  icon=folium.features.CustomIcon('https://emojipedia-us.s3.dualstack.us-west-1.amazonaws.com/thumbs/160/google/298/bed_1f6cf-fe0f.png',icon_size=(24,24))\n",
    "  message = '<strong>OSM ID:'+ str(row['id']) + \"</strong><br/>\" + row['tourism']\n",
    "  marker = getMarker(row['latitude'],row['longitude'],message, tip, icon)\n",
    "  #add to marker cluster \n",
    "  marker.add_to(marker_cluster)\n",
    "map"
   ],
   "metadata": {
    "collapsed": false,
    "pycharm": {
     "name": "#%%\n"
    }
   }
  },
  {
   "cell_type": "markdown",
   "source": [
    "---\n",
    "\n"
   ],
   "metadata": {
    "collapsed": false
   }
  },
  {
   "cell_type": "markdown",
   "source": [
    "---"
   ],
   "metadata": {
    "collapsed": false
   }
  },
  {
   "cell_type": "code",
   "execution_count": null,
   "outputs": [],
   "source": [
    "buildings = osm.get_buildings()\n",
    "buildings_clipped = buildings[buildings.within(area_dolomiti_BZ.geometry.values[0])]\n",
    "# walk = osm.get_network(\"walking\")\n",
    "# walk_clipped = walk[walk.within(area_dolomiti_BZ.geometry.values[0])]\n",
    "\n"
   ],
   "metadata": {
    "collapsed": false,
    "pycharm": {
     "name": "#%%\n"
    }
   }
  },
  {
   "cell_type": "code",
   "execution_count": null,
   "outputs": [],
   "source": [
    "nodes, edges = osm.get_network(nodes=True)\n"
   ],
   "metadata": {
    "collapsed": false,
    "pycharm": {
     "name": "#%%\n"
    }
   }
  },
  {
   "cell_type": "code",
   "execution_count": null,
   "outputs": [],
   "source": [
    "nodes = nodes[nodes.within(area_dolomiti_BZ.geometry.values[0])]\n",
    "edges = edges[edges.within(area_dolomiti_BZ.geometry.values[0])]"
   ],
   "metadata": {
    "collapsed": false,
    "pycharm": {
     "name": "#%%\n"
    }
   }
  },
  {
   "cell_type": "code",
   "execution_count": null,
   "outputs": [],
   "source": [
    "G = osm.to_graph(nodes, edges, graph_type=\"networkx\")"
   ],
   "metadata": {
    "collapsed": false,
    "pycharm": {
     "name": "#%%\n"
    }
   }
  },
  {
   "cell_type": "code",
   "execution_count": null,
   "outputs": [],
   "source": [
    "import osmnx  as ox\n",
    "ox.plot_graph(G)\n",
    "plt.show()"
   ],
   "metadata": {
    "collapsed": false,
    "pycharm": {
     "name": "#%%\n"
    }
   }
  },
  {
   "cell_type": "code",
   "execution_count": null,
   "outputs": [],
   "source": [
    "lon = ski_lifts_BZ_clipped.iloc[0].starting_point.x\n",
    "lat = ski_lifts_BZ_clipped.iloc[0].starting_point.y\n",
    "\n",
    "point_ski_lift = lat, lon\n",
    "point_ski_lift"
   ],
   "metadata": {
    "collapsed": false,
    "pycharm": {
     "name": "#%%\n"
    }
   }
  },
  {
   "cell_type": "code",
   "execution_count": null,
   "outputs": [],
   "source": [
    "lon = tourist_accommodation.iloc[0].geometry.x\n",
    "lat = tourist_accommodation.iloc[0].geometry.y\n",
    "\n",
    "point_hotel = lat, lon\n",
    "point_hotel"
   ],
   "metadata": {
    "collapsed": false,
    "pycharm": {
     "name": "#%%\n"
    }
   }
  },
  {
   "cell_type": "code",
   "execution_count": null,
   "outputs": [],
   "source": [
    "point_nearest_ski_lift = ox.get_nearest_node(G, point_ski_lift)\n",
    "point_nearest_trainstation = ox.get_nearest_node(G, point_hotel)"
   ],
   "metadata": {
    "collapsed": false,
    "pycharm": {
     "name": "#%%\n"
    }
   }
  },
  {
   "cell_type": "code",
   "execution_count": null,
   "outputs": [],
   "source": [
    "route = ox.shortest_path(G, point_nearest_trainstation, point_nearest_ski_lift, weight='length')\n",
    "fig, ax = ox.plot_graph_route(G, route, route_linewidth=6, node_size=0, bgcolor='k')\n",
    "plt.show()"
   ],
   "metadata": {
    "collapsed": false,
    "pycharm": {
     "name": "#%%\n"
    }
   }
  },
  {
   "cell_type": "code",
   "execution_count": null,
   "outputs": [],
   "source": [
    "address_coords = (ski_lifts_BZ_clipped[\"starting_point\"].values[0].y, ski_lifts_BZ_clipped[\"starting_point\"].values[0].x)\n",
    "closest_point_to_address = ox.get_nearest_node(G, address_coords)\n",
    "\n",
    "closest_point_to_address"
   ],
   "metadata": {
    "collapsed": false,
    "pycharm": {
     "name": "#%%\n"
    }
   }
  },
  {
   "cell_type": "code",
   "execution_count": null,
   "outputs": [],
   "source": [
    "ii = ox.shortest_path(closest_point_to_address,)"
   ],
   "metadata": {
    "collapsed": false,
    "pycharm": {
     "name": "#%%\n"
    }
   }
  }
 ],
 "metadata": {
  "kernelspec": {
   "display_name": "Python 3",
   "language": "python",
   "name": "python3"
  },
  "language_info": {
   "codemirror_mode": {
    "name": "ipython",
    "version": 3
   },
   "file_extension": ".py",
   "mimetype": "text/x-python",
   "name": "python",
   "nbconvert_exporter": "python",
   "pygments_lexer": "ipython3",
   "version": "3.9.9"
  }
 },
 "nbformat": 4,
 "nbformat_minor": 0
}